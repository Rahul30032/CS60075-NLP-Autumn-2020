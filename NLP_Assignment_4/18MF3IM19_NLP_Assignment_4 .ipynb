{
  "nbformat": 4,
  "nbformat_minor": 0,
  "metadata": {
    "colab": {
      "name": "Copy of 18MF3IM19_NLP_Assignment_4",
      "provenance": [],
      "collapsed_sections": []
    },
    "kernelspec": {
      "name": "python3",
      "display_name": "Python 3"
    }
  },
  "cells": [
    {
      "cell_type": "code",
      "metadata": {
        "id": "UcCq5SFRAO1w",
        "outputId": "499d19d4-7623-4cba-a6d9-296f34bf9d95",
        "colab": {
          "base_uri": "https://localhost:8080/",
          "height": 35
        }
      },
      "source": [
        "from google.colab import drive\n",
        "drive.mount('/content/drive/')"
      ],
      "execution_count": 1,
      "outputs": [
        {
          "output_type": "stream",
          "text": [
            "Mounted at /content/drive/\n"
          ],
          "name": "stdout"
        }
      ]
    },
    {
      "cell_type": "code",
      "metadata": {
        "id": "FJsD914SoX46",
        "outputId": "10d1acd4-3834-407a-bafe-2f57a319ee6d",
        "colab": {
          "base_uri": "https://localhost:8080/",
          "height": 211
        }
      },
      "source": [
        "pip install sklearn-crfsuite"
      ],
      "execution_count": 2,
      "outputs": [
        {
          "output_type": "stream",
          "text": [
            "Collecting sklearn-crfsuite\n",
            "  Downloading https://files.pythonhosted.org/packages/25/74/5b7befa513482e6dee1f3dd68171a6c9dfc14c0eaa00f885ffeba54fe9b0/sklearn_crfsuite-0.3.6-py2.py3-none-any.whl\n",
            "Requirement already satisfied: six in /usr/local/lib/python3.6/dist-packages (from sklearn-crfsuite) (1.15.0)\n",
            "Requirement already satisfied: tabulate in /usr/local/lib/python3.6/dist-packages (from sklearn-crfsuite) (0.8.7)\n",
            "Requirement already satisfied: tqdm>=2.0 in /usr/local/lib/python3.6/dist-packages (from sklearn-crfsuite) (4.41.1)\n",
            "Collecting python-crfsuite>=0.8.3\n",
            "\u001b[?25l  Downloading https://files.pythonhosted.org/packages/95/99/869dde6dbf3e0d07a013c8eebfb0a3d30776334e0097f8432b631a9a3a19/python_crfsuite-0.9.7-cp36-cp36m-manylinux1_x86_64.whl (743kB)\n",
            "\u001b[K     |████████████████████████████████| 747kB 3.8MB/s \n",
            "\u001b[?25hInstalling collected packages: python-crfsuite, sklearn-crfsuite\n",
            "Successfully installed python-crfsuite-0.9.7 sklearn-crfsuite-0.3.6\n"
          ],
          "name": "stdout"
        }
      ]
    },
    {
      "cell_type": "code",
      "metadata": {
        "id": "7TC0-RyMWwP9"
      },
      "source": [
        "import pandas as pd\n",
        "\n",
        "%matplotlib inline\n",
        "import matplotlib.pyplot as plt\n",
        "plt.style.use('ggplot')\n",
        "\n",
        "from itertools import chain\n",
        "\n",
        "import nltk\n",
        "import sklearn\n",
        "import scipy.stats\n",
        "from sklearn.metrics import make_scorer\n",
        "from sklearn.model_selection import cross_val_score\n",
        "from sklearn.model_selection import RandomizedSearchCV\n",
        "\n",
        "import sklearn_crfsuite\n",
        "from sklearn_crfsuite import scorers\n",
        "from sklearn_crfsuite import metrics"
      ],
      "execution_count": 3,
      "outputs": []
    },
    {
      "cell_type": "code",
      "metadata": {
        "id": "f33sCApCpru7"
      },
      "source": [
        "#Train conllu file\n",
        "data = pd.read_csv('/content/drive/My Drive/Assignment 4/hi-ud-train.conllu') \n",
        "data = data.dropna()\n",
        "data = data.reset_index()"
      ],
      "execution_count": 4,
      "outputs": []
    },
    {
      "cell_type": "code",
      "metadata": {
        "id": "IGf9m_vAjdUU"
      },
      "source": [
        "dataF = list()\n",
        "data_in = list()\n",
        "for i in range(len(data)):\n",
        "  a = str(data['ID'][i])\n",
        "  b = data['WORD'][i]\n",
        "  c = data['POS_TAG'][i]\n",
        "  data_in.append((a,b,c))\n",
        "  if b=='.':\n",
        "    dataF.append(data_in)\n",
        "    data_in = []"
      ],
      "execution_count": 5,
      "outputs": []
    },
    {
      "cell_type": "code",
      "metadata": {
        "id": "JvLiYE8bnNBP"
      },
      "source": [
        "#Test conllu file\n",
        "file1 = open('/content/drive/My Drive/Assignment 4/hi-ud-test .conllu', 'r')  \n",
        "Lines = file1.readlines() \n",
        "count = 0\n",
        "dataG = list()\n",
        "data_in=list()\n",
        "for line in Lines:\n",
        "  a = tuple((line.strip()).split('\\t'))\n",
        "  #print(a)\n",
        "  if a[0]!='':\n",
        "    data_in.append(a) \n",
        "  if a[0]!='' and a[1] == '.':\n",
        "    dataG.append(data_in)\n",
        "    data_in = []"
      ],
      "execution_count": 6,
      "outputs": []
    },
    {
      "cell_type": "code",
      "metadata": {
        "id": "PoIimkwHdRiF"
      },
      "source": [
        "train_sents = dataF\n",
        "test_sents = dataG"
      ],
      "execution_count": 7,
      "outputs": []
    },
    {
      "cell_type": "code",
      "metadata": {
        "id": "SdEdEAwqeA61"
      },
      "source": [
        "def word2features(sent, i):\n",
        "    word = sent[i][1]\n",
        "    \n",
        "    features = {\n",
        "        'bias': 1.0,\n",
        "        'word.lower()': word.lower(),\n",
        "        'word[-4:]': word[-4:],\n",
        "        'word[-3:]': word[-3:],\n",
        "        'word.isupper()': word.isupper(),\n",
        "        'word.istitle()': word.istitle(),\n",
        "        'word.isdigit()': word.isdigit(),    \n",
        "    }\n",
        "    if i > 0:\n",
        "        word1 = sent[i-1][1]\n",
        "        features.update({\n",
        "            '-1:word.lower()': word1.lower(),\n",
        "            '-1:word.istitle()': word1.istitle(),\n",
        "            '-1:word.isupper()': word1.isupper(),\n",
        "            '-1:word.len()': len(word1),\n",
        "        })\n",
        "    else:\n",
        "        features['BOS'] = True\n",
        "        \n",
        "    if i < len(sent)-1:\n",
        "        word1 = sent[i+1][1]    \n",
        "        features.update({\n",
        "            '+1:word.lower()': word1.lower(),\n",
        "            '+1:word.istitle()': word1.istitle(),\n",
        "            '+1:word.isupper()': word1.isupper(), \n",
        "            '+1:word.len()': len(word1),\n",
        "        })\n",
        "    else:\n",
        "        features['EOS'] = True\n",
        "                \n",
        "    return features\n",
        "\n",
        "\n",
        "def sent2features(sent):\n",
        "    return [word2features(sent, i) for i in range(len(sent))]\n",
        "\n",
        "def sent2labels(sent):\n",
        "    return [label for id,token,label in sent]\n",
        "\n",
        "def sent2tokens(sent):\n",
        "    return [token for id,token,label in sent]"
      ],
      "execution_count": 8,
      "outputs": []
    },
    {
      "cell_type": "code",
      "metadata": {
        "id": "hbPCSzhqdWaE"
      },
      "source": [
        "X_train = [sent2features(s) for s in train_sents]\n",
        "y_train = [sent2labels(s) for s in train_sents]\n",
        "\n",
        "X_test = [sent2features(s) for s in test_sents]\n",
        "y_test = [sent2labels(s) for s in test_sents]"
      ],
      "execution_count": 9,
      "outputs": []
    },
    {
      "cell_type": "code",
      "metadata": {
        "id": "5W4zqY2PeDmd",
        "outputId": "6037ccdf-a2aa-40fe-a56a-72945ffdef07",
        "colab": {
          "base_uri": "https://localhost:8080/",
          "height": 52
        }
      },
      "source": [
        "%%time\n",
        "crf = sklearn_crfsuite.CRF(\n",
        "    algorithm='lbfgs', \n",
        "    c1=0.1, \n",
        "    c2=0.1, \n",
        "    max_iterations=100, \n",
        "    all_possible_transitions=True\n",
        ")\n",
        "crf.fit(X_train, y_train)"
      ],
      "execution_count": 10,
      "outputs": [
        {
          "output_type": "stream",
          "text": [
            "CPU times: user 1.55 s, sys: 1.52 ms, total: 1.55 s\n",
            "Wall time: 1.56 s\n"
          ],
          "name": "stdout"
        }
      ]
    },
    {
      "cell_type": "code",
      "metadata": {
        "id": "M6fOTLZWeSML"
      },
      "source": [
        "labels = list(crf.classes_)"
      ],
      "execution_count": 11,
      "outputs": []
    },
    {
      "cell_type": "code",
      "metadata": {
        "id": "MlKlFOqweXbc",
        "outputId": "a6c3144f-2213-41e2-fd19-2413c9dfe8e5",
        "colab": {
          "base_uri": "https://localhost:8080/",
          "height": 89
        }
      },
      "source": [
        "y_pred = crf.predict(X_test)\n",
        "metrics.flat_f1_score(y_test, y_pred, \n",
        "                      average='weighted', labels=labels)"
      ],
      "execution_count": 12,
      "outputs": [
        {
          "output_type": "stream",
          "text": [
            "/usr/local/lib/python3.6/dist-packages/sklearn/metrics/_classification.py:1515: UndefinedMetricWarning: F-score is ill-defined and being set to 0.0 in labels with no true nor predicted samples. Use `zero_division` parameter to control this behavior.\n",
            "  average, \"true nor predicted\", 'F-score is', len(true_sum)\n"
          ],
          "name": "stderr"
        },
        {
          "output_type": "execute_result",
          "data": {
            "text/plain": [
              "0.8372947209173379"
            ]
          },
          "metadata": {
            "tags": []
          },
          "execution_count": 12
        }
      ]
    },
    {
      "cell_type": "code",
      "metadata": {
        "id": "gzzzKJvheZxQ",
        "outputId": "f7a444de-f12e-412f-d82a-b1cfeb4e537e",
        "colab": {
          "base_uri": "https://localhost:8080/",
          "height": 488
        }
      },
      "source": [
        "sorted_labels = sorted(\n",
        "    labels, \n",
        "    key=lambda name: (name[1:], name[0])\n",
        ")\n",
        "\n",
        "print(metrics.flat_classification_report(\n",
        "    y_test, y_pred, labels=sorted_labels, digits=3\n",
        "))"
      ],
      "execution_count": 13,
      "outputs": [
        {
          "output_type": "stream",
          "text": [
            "              precision    recall  f1-score   support\n",
            "\n",
            "           X      0.000     0.000     0.000         0\n",
            "        PART      0.970     0.970     0.970        33\n",
            "       CCONJ      1.000     1.000     1.000        25\n",
            "       SCONJ      0.667     0.667     0.667         3\n",
            "         ADJ      0.612     0.755     0.676        94\n",
            "         ADP      0.962     0.977     0.970       309\n",
            "         ADV      0.667     0.476     0.556        21\n",
            "        VERB      0.818     0.818     0.818        99\n",
            "         DET      0.800     0.889     0.842        36\n",
            "        NOUN      0.765     0.842     0.802       329\n",
            "        PRON      0.841     0.815     0.828        65\n",
            "       PROPN      0.638     0.510     0.567       145\n",
            "         NUM      1.000     0.880     0.936        25\n",
            "       PUNCT      1.000     0.830     0.907       135\n",
            "         AUX      0.935     0.935     0.935       139\n",
            "\n",
            "   micro avg      0.838     0.839     0.839      1458\n",
            "   macro avg      0.778     0.758     0.765      1458\n",
            "weighted avg      0.841     0.839     0.837      1458\n",
            "\n"
          ],
          "name": "stdout"
        },
        {
          "output_type": "stream",
          "text": [
            "/usr/local/lib/python3.6/dist-packages/sklearn/metrics/_classification.py:1272: UndefinedMetricWarning: Precision and F-score are ill-defined and being set to 0.0 in labels with no predicted samples. Use `zero_division` parameter to control this behavior.\n",
            "  _warn_prf(average, modifier, msg_start, len(result))\n",
            "/usr/local/lib/python3.6/dist-packages/sklearn/metrics/_classification.py:1272: UndefinedMetricWarning: Recall and F-score are ill-defined and being set to 0.0 in labels with no true samples. Use `zero_division` parameter to control this behavior.\n",
            "  _warn_prf(average, modifier, msg_start, len(result))\n"
          ],
          "name": "stderr"
        }
      ]
    },
    {
      "cell_type": "code",
      "metadata": {
        "id": "jRT0INPYd-YZ",
        "outputId": "3582bd1e-e698-476d-a42b-9f7e1876cede",
        "colab": {
          "base_uri": "https://localhost:8080/",
          "height": 35
        }
      },
      "source": [
        "correct_pred = 0\n",
        "allPred = 0\n",
        "for i in range(len(y_pred)):\n",
        "  for j in range(len(y_pred[i])):\n",
        "    if(y_pred[i][j]==y_test[i][j]):\n",
        "      correct_pred = correct_pred+1\n",
        "    allPred = allPred+1\n",
        "print(\"Overall test accuracy : \",correct_pred/allPred)"
      ],
      "execution_count": 14,
      "outputs": [
        {
          "output_type": "stream",
          "text": [
            "Overall test accuracy :  0.8382453735435229\n"
          ],
          "name": "stdout"
        }
      ]
    },
    {
      "cell_type": "code",
      "metadata": {
        "id": "QquY89yjeegu",
        "outputId": "acbf958d-0066-424d-86c8-d82c983f1fd1",
        "colab": {
          "base_uri": "https://localhost:8080/",
          "height": 468
        }
      },
      "source": [
        "from collections import Counter\n",
        "\n",
        "def print_transitions(trans_features):\n",
        "    for (label_from, label_to), weight in trans_features:\n",
        "        print(\"%-6s -> %-7s %0.6f\" % (label_from, label_to, weight))\n",
        "\n",
        "print(\"Top 10 likely transitions:\")\n",
        "print()\n",
        "print_transitions(Counter(crf.transition_features_).most_common(10))\n",
        "print('____________________________')\n",
        "\n",
        "print(\"\\nTop 10 unlikely transitions:\")\n",
        "print()\n",
        "print_transitions(Counter(crf.transition_features_).most_common()[-10:])"
      ],
      "execution_count": 15,
      "outputs": [
        {
          "output_type": "stream",
          "text": [
            "Top 10 likely transitions:\n",
            "\n",
            "VERB   -> AUX     3.870462\n",
            "PROPN  -> PROPN   2.877369\n",
            "AUX    -> AUX     2.106064\n",
            "ADJ    -> NOUN    1.987040\n",
            "PROPN  -> ADP     1.962522\n",
            "VERB   -> SCONJ   1.812537\n",
            "AUX    -> SCONJ   1.806367\n",
            "NOUN   -> ADP     1.500518\n",
            "NUM    -> NOUN    1.500236\n",
            "PRON   -> ADP     1.495635\n",
            "____________________________\n",
            "\n",
            "Top 10 unlikely transitions:\n",
            "\n",
            "PROPN  -> DET     -1.248055\n",
            "NUM    -> PRON    -1.295098\n",
            "ADP    -> AUX     -1.321371\n",
            "ADP    -> CCONJ   -1.333775\n",
            "ADV    -> AUX     -1.337072\n",
            "AUX    -> ADP     -1.664858\n",
            "CCONJ  -> AUX     -1.680747\n",
            "ADJ    -> PRON    -1.859629\n",
            "ADJ    -> ADP     -2.248199\n",
            "DET    -> ADP     -2.360762\n"
          ],
          "name": "stdout"
        }
      ]
    },
    {
      "cell_type": "markdown",
      "metadata": {
        "id": "qZCjpXasfuxI"
      },
      "source": [
        "If we consider that the train accuracy is to be found on the basis of the CRF being fit on the CRF trained on the train set.\n"
      ]
    },
    {
      "cell_type": "code",
      "metadata": {
        "id": "Gq96gs1De-EZ",
        "outputId": "99f22b2e-6498-4e5f-ad00-f73efabd7a26",
        "colab": {
          "base_uri": "https://localhost:8080/",
          "height": 35
        }
      },
      "source": [
        "y_pred = crf.predict(X_train)\n",
        "print(\"F1 Score\",metrics.flat_f1_score(y_train, y_pred, \n",
        "                      average='weighted', labels=labels))"
      ],
      "execution_count": 16,
      "outputs": [
        {
          "output_type": "stream",
          "text": [
            "F1 Score 0.996529919353909\n"
          ],
          "name": "stdout"
        }
      ]
    },
    {
      "cell_type": "code",
      "metadata": {
        "id": "150DZiEMfRes",
        "outputId": "a3445f8c-80e9-42c7-d9e8-a1694d747ba7",
        "colab": {
          "base_uri": "https://localhost:8080/",
          "height": 399
        }
      },
      "source": [
        "sorted_labels = sorted(\n",
        "    labels, \n",
        "    key=lambda name: (name[1:], name[0])\n",
        ")\n",
        "\n",
        "print(metrics.flat_classification_report(\n",
        "    y_train, y_pred, labels=sorted_labels, digits=3\n",
        "))"
      ],
      "execution_count": 17,
      "outputs": [
        {
          "output_type": "stream",
          "text": [
            "              precision    recall  f1-score   support\n",
            "\n",
            "           X      1.000     1.000     1.000         2\n",
            "        PART      1.000     1.000     1.000       163\n",
            "       CCONJ      0.993     1.000     0.997       150\n",
            "       SCONJ      0.984     1.000     0.992        61\n",
            "         ADJ      0.998     1.000     0.999       570\n",
            "         ADP      0.998     0.999     0.998      1387\n",
            "         ADV      0.982     0.982     0.982       111\n",
            "        VERB      0.998     0.980     0.989       640\n",
            "         DET      0.996     0.996     0.996       231\n",
            "        NOUN      0.998     0.998     0.998      1597\n",
            "        PRON      0.998     0.995     0.997       431\n",
            "       PROPN      1.000     0.996     0.998       708\n",
            "         NUM      1.000     1.000     1.000       152\n",
            "       PUNCT      1.000     1.000     1.000       564\n",
            "         AUX      0.984     1.000     0.992       730\n",
            "\n",
            "    accuracy                          0.997      7497\n",
            "   macro avg      0.995     0.996     0.996      7497\n",
            "weighted avg      0.997     0.997     0.997      7497\n",
            "\n"
          ],
          "name": "stdout"
        }
      ]
    },
    {
      "cell_type": "code",
      "metadata": {
        "id": "2UhBwm-3fR-w",
        "outputId": "78e58a4d-9327-4f0e-8825-84945a17a7ba",
        "colab": {
          "base_uri": "https://localhost:8080/",
          "height": 35
        }
      },
      "source": [
        "correct_pred = 0\n",
        "allPred = 0\n",
        "for i in range(len(y_pred)):\n",
        "  for j in range(len(y_pred[i])):\n",
        "    if(y_pred[i][j]==y_train[i][j]):\n",
        "      correct_pred = correct_pred+1\n",
        "    allPred = allPred+1\n",
        "print(\"Overall train accuracy : \",correct_pred/allPred)"
      ],
      "execution_count": 18,
      "outputs": [
        {
          "output_type": "stream",
          "text": [
            "Overall train accuracy :  0.9965319461117781\n"
          ],
          "name": "stdout"
        }
      ]
    }
  ]
}